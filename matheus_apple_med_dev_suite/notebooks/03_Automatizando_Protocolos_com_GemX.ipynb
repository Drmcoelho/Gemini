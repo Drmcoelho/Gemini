{
 "cells": [
  {
   "cell_type": "markdown",
   "metadata": {},
   "source": [
    "# 3. Automatizando Protocolos Clínicos com `gemx`\n",
    "\n",
    "Este notebook demonstra como invocar as automações clínicas do `gemini_megapack` diretamente de um ambiente Python. Isso permite integrar os protocolos gerados por IA em outras aplicações, como um prontuário eletrônico, um sistema de suporte à decisão ou um dashboard.\n",
    "\n",
    "**Objetivo:** Executar a automação do \"Bundle de Sepse\" e exibir o protocolo gerado."
   ]
  },
  {
   "cell_type": "code",
   "execution_count": null,
   "metadata": {},
   "outputs": [],
   "source": [
    "import subprocess\n",
    "import os\n",
    "from IPython.display import display, Markdown\n",
    "\n",
    "# O gemx.sh está na pasta k8s/gemini_megapack/\n",
    "# Vamos assumir que nosso notebook está em /workspaces/Gemini/matheus_apple_med_dev_suite/notebooks\n",
    "# O CWD (Current Working Directory) do notebook é a raiz do projeto.\n",
    "GEMX_SCRIPT_PATH = os.path.abspath(\"k8s/gemini_megapack/gemx.sh\")\n",
    "AUTOMATIONS_DIR = os.path.abspath(\"k8s/gemini_megapack/automations\")\n",
    "\n",
    "# Verificando se o script existe\n",
    "if not os.path.exists(GEMX_SCRIPT_PATH):\n",
    "    print(f\"ERRO: gemx.sh não encontrado em {GEMX_SCRIPT_PATH}\")\n",
    "    print(\"Por favor, ajuste o caminho se necessário.\")"
   ]
  },
  {
   "cell_type": "markdown",
   "metadata": {},
   "source": [
    "### Passo 1: Criar uma Função para Executar a Automação\n",
    "\n",
    "Vamos encapsular a chamada do `subprocess` em uma função que recebe o nome do arquivo de automação e retorna a saída em Markdown."
   ]
  },
  {
   "cell_type": "code",
   "execution_count": null,
   "metadata": {},
   "outputs": [],
   "source": [
    "def run_automation(automation_name: str) -> str:\n",
    "    \"\"\"Executa uma automação do gemx e retorna a saída.\"\"\"\n",
    "    automation_file = os.path.join(AUTOMATIONS_DIR, automation_name)\n",
    "    \n",
    "    if not os.path.exists(automation_file):\n",
    "        return f\"## Erro\nArquivo de automação não encontrado: `{automation_file}`\"\n",
    "    \n",
    "    command = [GEMX_SCRIPT_PATH, \"auto\", \"run\", automation_file]\n",
    "    \n",
    "    print(f\"Executando: `{' '.join(command)}`...\")\n",
    "    try:\n",
    "        # A execução pode demorar um pouco, dependendo da complexidade do prompt\n",
    "        result = subprocess.run(\n",
    "            command,\n",
    "            capture_output=True, text=True, check=True, timeout=180\n",
    "        )\n",
    "        # A saída principal do gemx gen é o stdout\n",
    "        return result.stdout\n",
    "    except FileNotFoundError:\n",
    "        return f\"## Erro\nO script `{GEMX_SCRIPT_PATH}` não foi encontrado ou não é executável.\"\n",
    "    except subprocess.CalledProcessError as e:\n",
    "        return f\"## Erro na Execução\n**Exit Code:** `{e.returncode}`\n**Stderr:**\n```\n{e.stderr}\n```\"\n",
    "    except subprocess.TimeoutExpired:\n",
    "        return \"## Erro\nO comando excedeu o tempo limite de 180 segundos.\""
   ]
  },
  {
   "cell_type": "markdown",
   "metadata": {},
   "source": [
    "### Passo 2: Executar o Protocolo de Sepse\n",
    "\n",
    "Agora, vamos chamar nossa função para gerar o bundle de sepse. A biblioteca `IPython.display.Markdown` renderizará a saída formatada diretamente na célula."
   ]
  },
  {
   "cell_type": "code",
   "execution_count": null,
   "metadata": {},
   "outputs": [],
   "source": [
    "# O nome do arquivo da automação que queremos rodar\n",
    "automation_to_run = \"sepse_bundle.yaml\"\n",
    "\n",
    "markdown_output = run_automation(automation_to_run)\n",
    "\n",
    "# Exibir o resultado formatado\n",
    "display(Markdown(markdown_output))"
   ]
  },
  {
   "cell_type": "markdown",
   "metadata": {},
   "source": [
    "### Passo 3: Executar Outro Protocolo (HDA)\n",
    "\n",
    "Para mostrar a flexibilidade, podemos facilmente executar um protocolo diferente, como o de Hemorragia Digestiva Alta (HDA)."
   ]
  },
  {
   "cell_type": "code",
   "execution_count": null,
   "metadata": {},
   "outputs": [],
   "source": [
    "hda_output = run_automation(\"hda_triage.yaml\")\n",
    "display(Markdown(hda_output))"
   ]
  },
  {
   "cell_type": "markdown",
   "metadata": {},
   "source": [
    "## Conclusão e Próximos Passos\n",
    "\n",
    "A capacidade de invocar programaticamente as automações do `gemx` abre um leque de possibilidades:\n",
    "\n",
    "- **Integração com Prontuários:** Um sistema poderia pré-preencher um protocolo com dados do paciente antes de chamar a automação.\n",
    "- **Aplicações Web Interativas:** Uma aplicação web (como a que existe em `k8s/gemini_megapack/web/`) pode oferecer uma interface gráfica para selecionar e executar esses protocolos.\n",
    "- **Análise de Resultados:** A saída em Markdown pode ser parseada para extrair informações estruturadas, como doses de medicamentos ou checklists, para validação ou logging.\n",
    "\n",
    "Esta série de notebooks cobriu o ciclo desde a busca de dados brutos (`medcli`), passando pela sua visualização (`pandas`), até a geração de protocolos complexos e clinicamente relevantes com o `gemx`."
   ]
  }
 ],
 "metadata": {
  "kernelspec": {
   "display_name": "Python 3",
   "language": "python",
   "name": "python3"
  },
  "language_info": {
   "codemirror_mode": {
    "name": "ipython",
    "version": 3
   },
   "file_extension": ".py",
   "mimetype": "text/x-python",
   "name": "python",
   "nbconvert_exporter": "python",
   "pygments_lexer": "ipython3",
   "version": "3.10.9"
  }
 },
 "nbformat": 4,
 "nbformat_minor": 4
}
