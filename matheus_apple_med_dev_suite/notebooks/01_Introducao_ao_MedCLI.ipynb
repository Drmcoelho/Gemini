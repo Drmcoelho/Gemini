{
 "cells": [
  {
   "cell_type": "markdown",
   "metadata": {},
   "source": [
    "# 1. Introdução ao `medcli`\n",
    "\n",
    "Este notebook é um guia didático para usar o `medcli`, a ferramenta de linha de comando da suite para interagir com APIs médicas.\n",
    "\n",
    "**Pré-requisito:** O `medcli` deve estar instalado e acessível no `PATH` do ambiente. Você pode instalá-lo a partir do diretório `macos/ssh_kit/medcli` com:\n",
    "```bash\n",
    "pipx install .\n",
    "```"
   ]
  },
  {
   "cell_type": "code",
   "execution_count": null,
   "metadata": {},
   "outputs": [],
   "source": [
    "# Vamos começar verificando a ajuda do medcli para ver os comandos disponíveis\n",
    "!med --help"
   ]
  },
  {
   "cell_type": "markdown",
   "metadata": {},
   "source": [
    "## 2. Interagindo com um Servidor FHIR\n",
    "\n",
    "O subcomando `fhir` permite fazer requisições GET a qualquer servidor FHIR R4."
   ]
  },
  {
   "cell_type": "code",
   "execution_count": null,
   "metadata": {},
   "outputs": [],
   "source": [
    "# Exemplo: buscar os 2 primeiros pacientes do servidor de teste público HAPI FHIR.\n",
    "# A saída é um Bundle FHIR em formato JSON.\n",
    "!med fhir get https://hapi.fhir.org/baseR4 \"Patient?_count=2\""
   ]
  },
  {
   "cell_type": "markdown",
   "metadata": {},
   "source": [
    "### Capturando a Saída em Python\n",
    "\n",
    "Podemos capturar o JSON de saída para uma variável Python e processá-lo usando os módulos `subprocess` e `json`."
   ]
  },
  {
   "cell_type": "code",
   "execution_count": null,
   "metadata": {},
   "outputs": [],
   "source": [
    "import json\n",
    "import subprocess\n",
    "\n",
    "# Nota: Assume que 'med' está no PATH do shell.\n",
    "result = subprocess.run(",
    "    ['med', 'fhir', 'get', 'https://hapi.fhir.org/baseR4', 'Patient?_count=5'],",
    "    capture_output=True,",
    "    text=True,",
    "    check=True
",
    ")\n",
    "\n",
    "fhir_bundle = json.loads(result.stdout)\n",
    "\n",
    "# Agora podemos trabalhar com os dados no Python\n",
    "patient_names = []\n",
    "for entry in fhir_bundle.get(\"entry\", []):\n",
    "    patient = entry.get(\"resource\", {})\n",
    "    if \"name\" in patient:\n",
    "        # Pega o primeiro nome e sobrenome\n",
    "        given_name = patient[\"name\"][0].get(\"given\", [\"N/A\"])[0]\n",
    "        family_name = patient[\"name\"][0].get(\"family\", \"N/A\")\n",
    "        patient_names.append(f\"{given_name} {family_name}\")\n",
    "\n",
    "print(\"Pacientes encontrados:\")\n",
    "for name in patient_names:\n",
    "    print(f\"- {name}\")"
   ]
  },
  {
   "cell_type": "markdown",
   "metadata": {},
   "source": [
    "## 3. Consultando o OpenFDA\n",
    "\n",
    "O subcomando `openfda` permite buscar informações sobre medicamentos."
   ]
  },
  {
   "cell_type": "code",
   "execution_count": null,
   "metadata": {},
   "outputs": [],
   "source": [
    "# Exemplo: buscar informações de 'label' sobre a Metformina, limitando a 1 resultado.\n",
    "!med openfda query label 'openfda.brand_name:"metformin"' --limit 1"
   ]
  },
  {
   "cell_type": "markdown",
   "metadata": {},
   "source": [
    "## 4. Consultando o RxNorm\n",
    "\n",
    "O `rxnorm` ajuda a encontrar códigos de conceitos (RxCUI) para medicamentos."
   ]
  },
  {
   "cell_type": "code",
   "execution_count": null,
   "metadata": {},
   "outputs": [],
   "source": [
    "# Exemplo: Encontrar o RxCUI para \"atorvastatin\"\n",
    "!med rxnorm rxcui \"atorvastatin\""
   ]
  },
  {
   "cell_type": "markdown",
   "metadata": {},
   "source": [
    "## 5. Pesquisando no ClinicalTrials.gov\n",
    "\n",
    "O comando `ctgov` permite pesquisar estudos clínicos."
   ]
  },
  {
   "cell_type": "code",
   "execution_count": null,
   "metadata": {},
   "outputs": [],
   "source": [
    "# Exemplo: Buscar 2 estudos sobre sepse, mostrando apenas o título e o status\n",
    "!med ctgov search \"query.term=sepsis&page.size=2&fields=BriefTitle,OverallStatus,LeadSponsorName\""
   ]
  },
  {
   "cell_type": "markdown",
   "metadata": {},
   "source": [
    "## Conclusão\n",
    "\n",
    "Este notebook demonstrou os comandos básicos do `medcli` e como integrar suas saídas em um fluxo de trabalho Python.\n",
    "\n",
    "O próximo notebook, **`02_Visualizacao_de_Dados_FHIR.ipynb`**, irá aprofundar na busca de dados de observações FHIR e na sua visualização com `pandas` e `matplotlib`."
   ]
  }
 ],
 "metadata": {
  "kernelspec": {
   "display_name": "Python 3",
   "language": "python",
   "name": "python3"
  },
  "language_info": {
   "codemirror_mode": {
    "name": "ipython",
    "version": 3
   },
   "file_extension": ".py",
   "mimetype": "text/x-python",
   "name": "python",
   "nbconvert_exporter": "python",
   "pygments_lexer": "ipython3",
   "version": "3.10.9"
  }
 },
 "nbformat": 4,
 "nbformat_minor": 4
}
