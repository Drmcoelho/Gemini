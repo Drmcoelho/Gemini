{
 "cells": [
  {
   "cell_type": "markdown",
   "metadata": {},
   "source": [
    "# 2. Visualização de Dados FHIR com `medcli` e Pandas\n",
    "\n",
    "Este notebook demonstra um fluxo de trabalho prático: usar o `medcli` para buscar dados clínicos de um servidor FHIR e, em seguida, usar `pandas` e `matplotlib` para processar e visualizar esses dados.\n",
    "\n",
    "**Objetivo:** Buscar e plotar as medições de pressão arterial sistólica e diastólica de um paciente ao longo do tempo."
   ]
  },
  {
   "cell_type": "code",
   "execution_count": null,
   "metadata": {},
   "outputs": [],
   "source": [
    "import json\n",
    "import subprocess\n",
    "import pandas as pd\n",
    "import matplotlib.pyplot as plt\n",
    "from datetime import datetime\n",
    "\n",
    "# Configurações para a busca\n",
    "FHIR_BASE = \"https://hapi.fhir.org/baseR4\"\n",
    "PATIENT_ID = \"12345\" # Usaremos um paciente de exemplo\n",
    "\n",
    "# Códigos LOINC para Pressão Arterial\n",
    "SYSTOLIC_CODE = \"8480-6\"   # Sistólica\n",
    "DIASTOLIC_CODE = \"8462-4\"  # Diastólica"
   ]
  },
  {
   "cell_type": "markdown",
   "metadata": {},
   "source": [
    "### Passo 1: Buscar os Dados FHIR via `medcli`\n",
    "\n",
    "Vamos criar uma função para buscar `Observation` para um paciente e um código específico."
   ]
  },
  {
   "cell_type": "code",
   "execution_count": null,
   "metadata": {},
   "outputs": [],
   "source": [
    "def fetch_observations(patient_id, loinc_code):\n",
    "    \"\"\"Busca observações FHIR e retorna uma lista de dicionários.\"\"\"\n",
    "    query = f\"Observation?patient={patient_id}&code=http://loinc.org|{loinc_code}&_sort=date&_count=50\"\n",
    "    try:\n",
    "        result = subprocess.run(\n",
    "            ['med', 'fhir', 'get', FHIR_BASE, query],\n",
    "            capture_output=True, text=True, check=True, timeout=60\n",
    "        )\n",
    "        bundle = json.loads(result.stdout)\n",
    "        \n",
    "        observations = []\n",
    "        for entry in bundle.get(\"entry\", []):\n",
    "            obs = entry.get(\"resource\")\n",
    "            if not obs or \"valueQuantity\" not in obs or \"effectiveDateTime\" not in obs:\n",
    "                continue\n",
    "            \n",
    "            observations.append({\n",
    "                \"date\": obs[\"effectiveDateTime\"],\n",
    "                \"value\": obs[\"valueQuantity\"].get(\"value\"),\n",
    "                \"unit\": obs[\"valueQuantity\"].get(\"unit\")\n",
    "            })\n",
    "        return observations\n",
    "    except (subprocess.CalledProcessError, json.JSONDecodeError, FileNotFoundError) as e:\n",
    "        print(f\"Erro ao buscar dados para o código {loinc_code}: {e}\")\n",
    "        return []\n",
    "\n",
    "# Buscar dados para pressão sistólica e diastólica\n",
    "print(\"Buscando pressão sistólica...\")\n",
    "systolic_data = fetch_observations(PATIENT_ID, SYSTOLIC_CODE)\n",
    "print(f\"Encontradas {len(systolic_data)} medições.\")\n",
    "\n",
    "print(\"Buscando pressão diastólica...\")\n",
    "diastolic_data = fetch_observations(PATIENT_ID, DIASTOLIC_CODE)\n",
    "print(f\"Encontradas {len(diastolic_data)} medições.\")"
   ]
  },
  {
   "cell_type": "markdown",
   "metadata": {},
   "source": [
    "### Passo 2: Processar os Dados com Pandas\n",
    "\n",
    "Com os dados brutos em mãos, vamos usar o Pandas para limpá-los e estruturá-los em um DataFrame, que é ideal para análise e visualização."
   ]
  },
  {
   "cell_type": "code",
   "execution_count": null,
   "metadata": {},
   "outputs": [],
   "source": [
    "if systolic_data and diastolic_data:\n",
    "    # Criar DataFrames\n",
    "    df_sys = pd.DataFrame(systolic_data)\n",
    "    df_dia = pd.DataFrame(diastolic_data)\n",
    "\n",
    "    # Converter a coluna de data para o tipo datetime\n",
    "    df_sys[\"date\"] = pd.to_datetime(df_sys[\"date\"])\n",
    "    df_dia[\"date\"] = pd.to_datetime(df_dia[\"date\"])\n",
    "\n",
    "    # Definir a data como índice para facilitar a junção\n",
    "    df_sys = df_sys.set_index(\"date\").rename(columns={"value": \"systolic\"})\n",
    "    df_dia = df_dia.set_index(\"date\").rename(columns={"value": \"diastolic\"})\n",
    "\n",
    "    # Juntar os dois DataFrames em um só, alinhando pelas datas\n",
    "    df_bp = df_sys[[\"systolic\"]].join(df_dia[[\"diastolic\"], how=\"outer\").sort_index()\n",
    "\n",
    "    # Remover linhas onde faltam dados e mostrar as 5 primeiras linhas\n",
    "    df_bp = df_bp.dropna()\n",
    "    print(\"DataFrame de Pressão Arterial:\")\n",
    "    print(df_bp.head())\n",
    "else:\n",
    "    print(\"Não há dados suficientes para criar o DataFrame.\")"
   ]
  },
  {
   "cell_type": "markdown",
   "metadata": {},
   "source": [
    "### Passo 3: Visualizar os Dados\n",
    "\n",
    "Finalmente, usamos o `matplotlib` para plotar a série temporal da pressão arterial."
   ]
  },
  {
   "cell_type": "code",
   "execution_count": null,
   "metadata": {},
   "outputs": [],
   "source": [
    "if 'df_bp' in locals() and not df_bp.empty:\n",
    "    plt.style.use(\"seaborn-v0_8-whitegrid\") # Usar um estilo agradável\n",
    "    fig, ax = plt.subplots(figsize=(12, 6))\n",
    "\n",
    "    # Plotar as duas linhas\n",
    "    ax.plot(df_bp.index, df_bp[\"systolic\"], marker=\"o\", linestyle=\"-\", label=\"Sistólica\")\n",
    "    ax.plot(df_bp.index, df_bp[\"diastolic\"], marker=\"o\", linestyle=\"-\", label=\"Diastólica\")\n",
    "\n",
    "    # Configurar o gráfico\n",
    "    ax.set_title(f\"Pressão Arterial para o Paciente {PATIENT_ID}\")\n",
    "    ax.set_xlabel(\"Data\")\n",
    "    ax.set_ylabel(\"Pressão (mmHg)\")\n",
    "    ax.legend()\n",
    "    ax.grid(True)\n",
    "    \n",
    "    # Melhorar a formatação das datas no eixo X\n",
    "    fig.autofmt_xdate()\n",
    "\n",
    "    plt.show()\n",
    "else:\n",
    "    print(\"Não há dados para plotar.\")"
   ]
  },
  {
   "cell_type": "markdown",
   "metadata": {},
   "source": [
    "## Conclusão\n",
    "\n",
    "Este notebook mostrou um ciclo completo: buscar dados clínicos via `medcli`, limpá-los e estruturá-los com `pandas`, e criar uma visualização informativa com `matplotlib`.\n",
    "\n",
    "O próximo notebook, **`03_Automatizando_Protocolos_com_GemX.ipynb`**, mudará o foco para a interação com os recursos de IA do `gemini_megapack`."
   ]
  }
 ],
 "metadata": {
  "kernelspec": {
   "display_name": "Python 3",
   "language": "python",
   "name": "python3"
  },
  "language_info": {
   "codemirror_mode": {
    "name": "ipython",
    "version": 3
   },
   "file_extension": ".py",
   "mimetype": "text/x-python",
   "name": "python",
   "nbconvert_exporter": "python",
   "pygments_lexer": "ipython3",
   "version": "3.10.9"
  }
 },
 "nbformat": 4,
 "nbformat_minor": 4
}
